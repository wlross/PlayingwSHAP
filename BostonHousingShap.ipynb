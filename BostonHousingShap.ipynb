{
 "cells": [
  {
   "cell_type": "code",
   "execution_count": 1,
   "metadata": {},
   "outputs": [
    {
     "name": "stderr",
     "output_type": "stream",
     "text": [
      "//anaconda3/lib/python3.7/site-packages/lightgbm/__init__.py:46: UserWarning: Starting from version 2.2.1, the library file in distribution wheels for macOS is built by the Apple Clang (Xcode_8.3.3) compiler.\n",
      "This means that in case of installing LightGBM from PyPI via the ``pip install lightgbm`` command, you don't need to install the gcc compiler anymore.\n",
      "Instead of that, you need to install the OpenMP library, which is required for running LightGBM on the system with the Apple Clang compiler.\n",
      "You can install the OpenMP library by the following command: ``brew install libomp``.\n",
      "  \"You can install the OpenMP library by the following command: ``brew install libomp``.\", UserWarning)\n"
     ]
    }
   ],
   "source": [
    "import pandas as pd\n",
    "from sklearn import datasets\n",
    "import lightgbm as lgb\n",
    "import xgboost as xgb\n",
    "from sklearn.model_selection import GridSearchCV\n",
    "import shap"
   ]
  },
  {
   "cell_type": "code",
   "execution_count": 2,
   "metadata": {},
   "outputs": [],
   "source": [
    "# Load dataset\n",
    "boston = datasets.load_boston()\n",
    "# Create feature DF\n",
    "X = pd.DataFrame(data = boston.data, columns = boston['feature_names'])\n",
    "# Create target DF\n",
    "y = pd.DataFrame(data = boston.target, columns = ['MEDV'])"
   ]
  },
  {
   "cell_type": "code",
   "execution_count": 3,
   "metadata": {},
   "outputs": [
    {
     "name": "stdout",
     "output_type": "stream",
     "text": [
      "Fitting 2 folds for each of 1 candidates, totalling 2 fits\n"
     ]
    },
    {
     "name": "stderr",
     "output_type": "stream",
     "text": [
      "[Parallel(n_jobs=-1)]: Using backend LokyBackend with 8 concurrent workers.\n"
     ]
    },
    {
     "name": "stdout",
     "output_type": "stream",
     "text": [
      "LightGBM type: <class 'lightgbm.basic.Booster'>\n"
     ]
    },
    {
     "name": "stderr",
     "output_type": "stream",
     "text": [
      "[Parallel(n_jobs=-1)]: Done   2 out of   2 | elapsed:    1.8s remaining:    0.0s\n",
      "[Parallel(n_jobs=-1)]: Done   2 out of   2 | elapsed:    1.8s finished\n"
     ]
    },
    {
     "data": {
      "text/plain": [
       "array([[-2.16235155e-01, -7.47436343e-02,  4.21347385e-01, ...,\n",
       "         6.36263921e-01,  1.98596873e-01,  4.86600298e+00],\n",
       "       [-2.05571476e-01, -3.65162885e-03, -3.24497556e-01, ...,\n",
       "         2.25773801e-01,  1.96197744e-01,  1.82787165e+00],\n",
       "       [ 9.27601864e-02, -1.80164834e-02, -2.21885639e-01, ...,\n",
       "         1.35388007e-01, -2.83944693e-03,  7.20479950e+00],\n",
       "       ...,\n",
       "       [-1.92913823e-01, -9.45214800e-03, -4.30890696e-01, ...,\n",
       "        -8.69442255e-01, -1.42631537e-01,  1.24285490e+00],\n",
       "       [ 1.13954136e-01, -1.53728939e-02, -5.44186028e-01, ...,\n",
       "        -8.73572324e-01, -4.53222683e-02,  2.02230509e+00],\n",
       "       [-6.97427621e-01, -8.71539568e-03, -5.39408440e-01, ...,\n",
       "        -7.55787571e-01, -1.34582969e-01,  3.34732744e-01]])"
      ]
     },
     "execution_count": 3,
     "metadata": {},
     "output_type": "execute_result"
    }
   ],
   "source": [
    "# Train LightGBM\n",
    "parameters = {}\n",
    "lgb_model = lgb.LGBMRegressor()\n",
    "rgr = GridSearchCV(lgb_model, parameters, n_jobs=-1, cv=2, verbose=1)\n",
    "lgb_model_grid = rgr.fit(X,y.MEDV)\n",
    "# Calculate SHAP values\n",
    "print(\"LightGBM type:\", type(lgb_model_grid.best_estimator_.booster_))\n",
    "shap.TreeExplainer(lgb_model_grid.best_estimator_.booster_).shap_values(X)"
   ]
  },
  {
   "cell_type": "code",
   "execution_count": 4,
   "metadata": {},
   "outputs": [
    {
     "name": "stdout",
     "output_type": "stream",
     "text": [
      "Fitting 2 folds for each of 1 candidates, totalling 2 fits\n"
     ]
    },
    {
     "name": "stderr",
     "output_type": "stream",
     "text": [
      "[Parallel(n_jobs=-1)]: Using backend LokyBackend with 8 concurrent workers.\n"
     ]
    },
    {
     "name": "stdout",
     "output_type": "stream",
     "text": [
      "[09:56:51] WARNING: src/objective/regression_obj.cu:152: reg:linear is now deprecated in favor of reg:squarederror.\n",
      "XGBoost type: <class 'xgboost.sklearn.XGBRegressor'>\n",
      "XGBoost type: <class 'xgboost.sklearn.XGBRegressor'>\n"
     ]
    },
    {
     "name": "stderr",
     "output_type": "stream",
     "text": [
      "[Parallel(n_jobs=-1)]: Done   2 out of   2 | elapsed:    1.1s remaining:    0.0s\n",
      "[Parallel(n_jobs=-1)]: Done   2 out of   2 | elapsed:    1.1s finished\n",
      "//anaconda3/lib/python3.7/site-packages/xgboost/core.py:587: FutureWarning: Series.base is deprecated and will be removed in a future version\n",
      "  if getattr(data, 'base', None) is not None and \\\n",
      "//anaconda3/lib/python3.7/site-packages/xgboost/core.py:588: FutureWarning: Series.base is deprecated and will be removed in a future version\n",
      "  data.base is not None and isinstance(data, np.ndarray) \\\n"
     ]
    },
    {
     "data": {
      "text/plain": [
       "array([[-0.51467264, -0.20504883,  0.06660128, ...,  0.4995593 ,\n",
       "         0.13651758,  5.601616  ],\n",
       "       [-0.33332354, -0.06292161, -0.17551032, ...,  0.71119964,\n",
       "         0.07554361,  1.7569411 ],\n",
       "       [-0.29614973, -0.06196661, -0.32156122, ...,  0.30347508,\n",
       "         0.19353725,  6.9513354 ],\n",
       "       ...,\n",
       "       [-0.5108058 , -0.18954909,  0.03790583, ..., -1.4830108 ,\n",
       "         0.06967882,  2.8791142 ],\n",
       "       [ 0.31853032, -0.18596269,  0.0397671 , ..., -1.508986  ,\n",
       "         0.15543678,  2.6643074 ],\n",
       "       [-0.8217313 , -0.20032728, -0.06452336, ..., -1.2430359 ,\n",
       "         0.03995529,  1.7653933 ]], dtype=float32)"
      ]
     },
     "execution_count": 4,
     "metadata": {},
     "output_type": "execute_result"
    }
   ],
   "source": [
    "# Train XGBoost\n",
    "xgb_model = xgb.XGBRegressor()\n",
    "rgr = GridSearchCV(xgb_model, parameters, n_jobs=-1, cv=2, verbose=1)\n",
    "xgb_model_grid = rgr.fit(X,y.MEDV)\n",
    "# Calculate SHAP values (DOESN'T WORK)\n",
    "print(\"XGBoost type:\", type(xgb_model_grid.best_estimator_))\n",
    "shap.TreeExplainer(xgb_model_grid.best_estimator_).shap_values(X)\n",
    "print(\"XGBoost type:\", type(xgb_model_grid.best_estimator_))\n",
    "shap.TreeExplainer(xgb_model_grid.best_estimator_).shap_values(X)"
   ]
  },
  {
   "cell_type": "code",
   "execution_count": null,
   "metadata": {},
   "outputs": [],
   "source": []
  }
 ],
 "metadata": {
  "kernelspec": {
   "display_name": "Python 3",
   "language": "python",
   "name": "python3"
  },
  "language_info": {
   "codemirror_mode": {
    "name": "ipython",
    "version": 3
   },
   "file_extension": ".py",
   "mimetype": "text/x-python",
   "name": "python",
   "nbconvert_exporter": "python",
   "pygments_lexer": "ipython3",
   "version": "3.7.3"
  }
 },
 "nbformat": 4,
 "nbformat_minor": 2
}
